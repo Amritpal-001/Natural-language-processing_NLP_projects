{
 "cells": [
  {
   "cell_type": "markdown",
   "metadata": {
    "id": "DxNMxXR5aFja"
   },
   "source": [
    " # google-research /bert \n",
    "\n",
    " https://github.com/google-research/bert"
   ]
  },
  {
   "cell_type": "markdown",
   "metadata": {
    "id": "tq91sresaZd4"
   },
   "source": [
    "Sentence (and sentence-pair) classification tasks"
   ]
  },
  {
   "cell_type": "code",
   "execution_count": null,
   "metadata": {
    "id": "9ZdRIIiMaFUf"
   },
   "outputs": [],
   "source": [
    "export BERT_BASE_DIR=/path/to/bert/uncased_L-12_H-768_A-12\n",
    "export GLUE_DIR=/path/to/glue\n",
    "\n",
    "python run_classifier.py \\\n",
    "  --task_name=MRPC \\\n",
    "  --do_train=true \\\n",
    "  --do_eval=true \\\n",
    "  --data_dir=$GLUE_DIR/MRPC \\\n",
    "  --vocab_file=$BERT_BASE_DIR/vocab.txt \\\n",
    "  --bert_config_file=$BERT_BASE_DIR/bert_config.json \\\n",
    "  --init_checkpoint=$BERT_BASE_DIR/bert_model.ckpt \\\n",
    "  --max_seq_length=128 \\\n",
    "  --train_batch_size=32 \\\n",
    "  --learning_rate=2e-5 \\\n",
    "  --num_train_epochs=3.0 \\\n",
    "  --output_dir=/tmp/mrpc_output/"
   ]
  },
  {
   "cell_type": "code",
   "execution_count": null,
   "metadata": {
    "id": "7oFqSY0BaS49"
   },
   "outputs": [],
   "source": []
  },
  {
   "cell_type": "code",
   "execution_count": null,
   "metadata": {
    "id": "uPmj_VUoaS-d"
   },
   "outputs": [],
   "source": []
  },
  {
   "cell_type": "markdown",
   "metadata": {
    "id": "jxRuwqfgaWut"
   },
   "source": [
    "Prediction"
   ]
  },
  {
   "cell_type": "code",
   "execution_count": null,
   "metadata": {
    "id": "HQ6p17T0aTCN"
   },
   "outputs": [],
   "source": [
    "export BERT_BASE_DIR=/path/to/bert/uncased_L-12_H-768_A-12\n",
    "export GLUE_DIR=/path/to/glue\n",
    "export TRAINED_CLASSIFIER=/path/to/fine/tuned/classifier\n",
    "\n",
    "python run_classifier.py \\\n",
    "  --task_name=MRPC \\\n",
    "  --do_predict=true \\\n",
    "  --data_dir=$GLUE_DIR/MRPC \\\n",
    "  --vocab_file=$BERT_BASE_DIR/vocab.txt \\\n",
    "  --bert_config_file=$BERT_BASE_DIR/bert_config.json \\\n",
    "  --init_checkpoint=$TRAINED_CLASSIFIER \\\n",
    "  --max_seq_length=128 \\\n",
    "  --output_dir=/tmp/mrpc_output/"
   ]
  },
  {
   "cell_type": "markdown",
   "metadata": {
    "id": "p0-t9TSIZuSf"
   },
   "source": [
    " # kaushaltrivedi / fast-bert \n",
    "\n",
    "https://github.com/kaushaltrivedi/fast-bert"
   ]
  },
  {
   "cell_type": "code",
   "execution_count": null,
   "metadata": {
    "id": "EOheQGQtZtly"
   },
   "outputs": [],
   "source": [
    "!pip install fast-bert"
   ]
  },
  {
   "cell_type": "code",
   "execution_count": null,
   "metadata": {
    "id": "wotHYdQ6Z4H9"
   },
   "outputs": [],
   "source": []
  }
 ],
 "metadata": {
  "colab": {
   "authorship_tag": "ABX9TyMdROyEdrjYCrbNpuP03g4s",
   "collapsed_sections": [],
   "name": "BERT",
   "provenance": []
  },
  "kernelspec": {
   "display_name": "Python 3",
   "language": "python",
   "name": "python3"
  },
  "language_info": {
   "codemirror_mode": {
    "name": "ipython",
    "version": 3
   },
   "file_extension": ".py",
   "mimetype": "text/x-python",
   "name": "python",
   "nbconvert_exporter": "python",
   "pygments_lexer": "ipython3",
   "version": "3.8.5"
  }
 },
 "nbformat": 4,
 "nbformat_minor": 1
}
